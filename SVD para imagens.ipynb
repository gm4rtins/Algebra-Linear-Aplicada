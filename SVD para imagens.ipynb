{
 "cells": [
  {
   "cell_type": "code",
   "execution_count": 44,
   "id": "d34232a3-02f5-4405-87e1-005db24f426b",
   "metadata": {},
   "outputs": [],
   "source": [
    "import pandas as pd\n",
    "import cv2\n",
    "import numpy as np\n",
    "from ipywidgets import interact, interactive, fixed, interact_manual\n",
    "import ipywidgets as widgets\n",
    "import matplotlib.pyplot as plt\n"
   ]
  },
  {
   "cell_type": "code",
   "execution_count": 106,
   "id": "b240bf07-c7d8-4e0e-86e1-2e2631ccd038",
   "metadata": {},
   "outputs": [],
   "source": [
    "# Funções para leitura de imagem. A primeira usa a cv2 para visutalização em janela, e a segunda possibilita a plotagem.\n",
    "\n",
    "def read_img(img_name, is_gray):\n",
    "  img = cv2.imread(f\"imgs/{img_name}\")\n",
    "  if is_gray:\n",
    "    img = cv2.cvtColor(img, cv2.COLOR_BGR2GRAY)\n",
    "\n",
    "  return img"
   ]
  },
  {
   "cell_type": "code",
   "execution_count": 97,
   "id": "b7e16cf1-78be-489a-a98a-4d5afe72cb9a",
   "metadata": {},
   "outputs": [],
   "source": [
    "def decompor_imagem(imagem):\n",
    "    \"\"\"\n",
    "    Decompõe uma imagem em valores RGB e armazena cada cor em uma matriz própria.\n",
    "\n",
    "    Argumentos:\n",
    "    imagem: numpy.ndarray - A imagem a ser decomposta.\n",
    "\n",
    "    Retorna:\n",
    "    matriz_r: numpy.ndarray - Matriz contendo os valores R da imagem.\n",
    "    matriz_g: numpy.ndarray - Matriz contendo os valores G da imagem.\n",
    "    matriz_b: numpy.ndarray - Matriz contendo os valores B da imagem.\n",
    "    \"\"\"\n",
    "    # Obter as dimensões da imagem\n",
    "    altura, largura, _ = imagem.shape\n",
    "\n",
    "    # Inicializar matrizes para os valores R, G e B\n",
    "    matriz_r = np.zeros((altura, largura, 3), dtype=np.uint8)\n",
    "    matriz_g = np.zeros((altura, largura, 3), dtype=np.uint8)\n",
    "    matriz_b = np.zeros((altura, largura, 3), dtype=np.uint8)\n",
    "\n",
    "    # Atribuir valores às matrizes\n",
    "    matriz_r[:, :, 2] = imagem[:, :, 2]  # Red\n",
    "    matriz_g[:, :, 1] = imagem[:, :, 1]  # Green\n",
    "    matriz_b[:, :, 0] = imagem[:, :, 0]  # Blue\n",
    "\n",
    "    return matriz_r, matriz_g, matriz_b"
   ]
  },
  {
   "cell_type": "code",
   "execution_count": 108,
   "id": "6f4a37f1-ebc5-4725-892d-82c466bba235",
   "metadata": {},
   "outputs": [],
   "source": [
    "# def visualiza_cv2(matriz_r, matriz_g, matriz_b):\n",
    "#     \"\"\"\n",
    "#     Visualiza as matrizes RGB como imagens coloridas.\n",
    "\n",
    "#     Argumentos:\n",
    "#     matriz_r: numpy.ndarray - Matriz contendo os valores R.\n",
    "#     matriz_g: numpy.ndarray - Matriz contendo os valores G.\n",
    "#     matriz_b: numpy.ndarray - Matriz contendo os valores B.\n",
    "#     \"\"\"\n",
    "#     # Exibir as matrizes separadas como imagens coloridas\n",
    "#     cv2.imshow('Matriz R (Red)', matriz_r)\n",
    "#     cv2.imshow('Matriz G (Green)', matriz_g)\n",
    "#     cv2.imshow('Matriz B (Blue)', matriz_b)\n",
    "#     cv2.waitKey(0)\n",
    "#     cv2.destroyAllWindows()"
   ]
  },
  {
   "cell_type": "code",
   "execution_count": 109,
   "id": "ffaf59c6",
   "metadata": {},
   "outputs": [],
   "source": [
    "# def visualiza_plt(matriz_r, matriz_g, matriz_b):\n",
    "#   \"\"\"\n",
    "#   Visualiza as matrizes RGB como imagens coloridas.\n",
    "\n",
    "#   Argumentos:\n",
    "#   matriz_r: numpy.ndarray - Matriz contendo os valores R.\n",
    "#   matriz_g: numpy.ndarray - Matriz contendo os valores G.\n",
    "#   matriz_b: numpy.ndarray - Matriz contendo os valores B.\n",
    "#   \"\"\"\n",
    "#   # Exibir as matrizes separadas como imagens coloridas\n",
    "#   plt.subplot(1, 3, 1)\n",
    "#   plt.plot( matriz_r)\n",
    "#   plt.title('Matriz R (Red)')\n",
    "\n",
    "#   plt.subplot(2, 1, 1)\n",
    "#   plt.imshow('Matriz G (Green)')\n",
    "#   plt.imshow(matriz_g)\n",
    "\n",
    "#   plt.subplot(2, 3, 2)\n",
    "#   plt.plot(matriz_b)\n",
    "#   plt.imshow('Matriz B (Blue)')\n",
    "\n",
    "#   plt.tight_layout()"
   ]
  },
  {
   "cell_type": "code",
   "execution_count": 110,
   "id": "a6b736af",
   "metadata": {},
   "outputs": [],
   "source": [
    "# def visualizer(img, type=\"plt\"):\n",
    "#     if img is None:\n",
    "#         print('Erro ao carregar a imagem.')\n",
    "#     else:\n",
    "#         # Decompõe a imagem em valores RGB\n",
    "#         matriz_r, matriz_g, matriz_b = decompor_imagem(img)\n",
    "\n",
    "#         # Visualiza as matrizes RGB\n",
    "#         visualizar_matrizes(matriz_r, matriz_g, matriz_b)"
   ]
  },
  {
   "cell_type": "code",
   "execution_count": 111,
   "id": "06fc3adc",
   "metadata": {},
   "outputs": [],
   "source": [
    "imagem = read_img(\"zeca_2.png\", True)\n",
    "\n",
    "# visualizer(imagem, \"cv2\")"
   ]
  },
  {
   "cell_type": "code",
   "execution_count": 103,
   "id": "4185096e",
   "metadata": {},
   "outputs": [],
   "source": [
    "def comp_and_decomp(rank):\n",
    "  U, D, Vt = np.linalg.svd(imagem, full_matrices=True)\n",
    "  reconstructed_image = np.dot(U[:, :rank], np.dot(np.diag(D[:rank]), Vt[:rank, :]))\n",
    "  plt.imshow(reconstructed_image, cmap='gray')\n",
    "  plt.title('Imagem reconstruída')\n",
    "  # plt.show()"
   ]
  },
  {
   "cell_type": "code",
   "execution_count": 112,
   "id": "188b8a37",
   "metadata": {},
   "outputs": [
    {
     "data": {
      "application/vnd.jupyter.widget-view+json": {
       "model_id": "982367c637d74d6790f3fddb19866616",
       "version_major": 2,
       "version_minor": 0
      },
      "text/plain": [
       "interactive(children=(IntSlider(value=1, description='rank', max=277, min=1), Output()), _dom_classes=('widget…"
      ]
     },
     "metadata": {},
     "output_type": "display_data"
    },
    {
     "data": {
      "text/plain": [
       "<function __main__.comp_and_decomp(rank)>"
      ]
     },
     "execution_count": 112,
     "metadata": {},
     "output_type": "execute_result"
    }
   ],
   "source": [
    "\n",
    "max_rank = min(imagem.shape)\n",
    "interact(comp_and_decomp, rank=widgets.IntSlider(min=1, max=max_rank, step=1, value=1))"
   ]
  }
 ],
 "metadata": {
  "kernelspec": {
   "display_name": "Python 3 (ipykernel)",
   "language": "python",
   "name": "python3"
  },
  "language_info": {
   "codemirror_mode": {
    "name": "ipython",
    "version": 3
   },
   "file_extension": ".py",
   "mimetype": "text/x-python",
   "name": "python",
   "nbconvert_exporter": "python",
   "pygments_lexer": "ipython3",
   "version": "3.10.12"
  }
 },
 "nbformat": 4,
 "nbformat_minor": 5
}
