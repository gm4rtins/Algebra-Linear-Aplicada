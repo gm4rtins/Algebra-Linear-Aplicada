{
 "cells": [
  {
   "cell_type": "code",
   "execution_count": 1,
   "id": "d34232a3-02f5-4405-87e1-005db24f426b",
   "metadata": {},
   "outputs": [],
   "source": [
    "import pandas as pd\n",
    "import cv2\n",
    "import numpy as np"
   ]
  },
  {
   "cell_type": "code",
   "execution_count": 2,
   "id": "b240bf07-c7d8-4e0e-86e1-2e2631ccd038",
   "metadata": {},
   "outputs": [],
   "source": [
    "imagem = cv2.imread('./imgs/night.jpeg')"
   ]
  },
  {
   "cell_type": "code",
   "execution_count": 3,
   "id": "b7e16cf1-78be-489a-a98a-4d5afe72cb9a",
   "metadata": {},
   "outputs": [],
   "source": [
    "def decompor_imagem(imagem):\n",
    "    \"\"\"\n",
    "    Decompõe uma imagem em valores RGB e armazena cada cor em uma matriz própria.\n",
    "    \n",
    "    Argumentos:\n",
    "    imagem: numpy.ndarray - A imagem a ser decomposta.\n",
    "    \n",
    "    Retorna:\n",
    "    matriz_r: numpy.ndarray - Matriz contendo os valores R da imagem.\n",
    "    matriz_g: numpy.ndarray - Matriz contendo os valores G da imagem.\n",
    "    matriz_b: numpy.ndarray - Matriz contendo os valores B da imagem.\n",
    "    \"\"\"\n",
    "    # Obter as dimensões da imagem\n",
    "    altura, largura, _ = imagem.shape\n",
    "\n",
    "    # Inicializar matrizes para os valores R, G e B\n",
    "    matriz_r = np.zeros((altura, largura, 3), dtype=np.uint8)\n",
    "    matriz_g = np.zeros((altura, largura, 3), dtype=np.uint8)\n",
    "    matriz_b = np.zeros((altura, largura, 3), dtype=np.uint8)\n",
    "\n",
    "    # Atribuir valores às matrizes\n",
    "    matriz_r[:, :, 2] = imagem[:, :, 2]  # Red\n",
    "    matriz_g[:, :, 1] = imagem[:, :, 1]  # Green\n",
    "    matriz_b[:, :, 0] = imagem[:, :, 0]  # Blue\n",
    "\n",
    "    return matriz_r, matriz_g, matriz_b"
   ]
  },
  {
   "cell_type": "code",
   "execution_count": 5,
   "id": "6f4a37f1-ebc5-4725-892d-82c466bba235",
   "metadata": {},
   "outputs": [],
   "source": [
    "def visualizar_matrizes(matriz_r, matriz_g, matriz_b):\n",
    "    \"\"\"\n",
    "    Visualiza as matrizes RGB como imagens coloridas.\n",
    "\n",
    "    Argumentos:\n",
    "    matriz_r: numpy.ndarray - Matriz contendo os valores R.\n",
    "    matriz_g: numpy.ndarray - Matriz contendo os valores G.\n",
    "    matriz_b: numpy.ndarray - Matriz contendo os valores B.\n",
    "    \n",
    "    \"\"\"\n",
    "    # Exibir as matrizes separadas como imagens coloridas\n",
    "    cv2.imshow('Matriz R (Red)', matriz_r)\n",
    "    cv2.imshow('Matriz G (Green)', matriz_g)\n",
    "    cv2.imshow('Matriz B (Blue)', matriz_b)\n",
    "    cv2.waitKey(0)\n",
    "    cv2.destroyAllWindows()"
   ]
  },
  {
   "cell_type": "code",
   "execution_count": 6,
   "id": "daab6de0-cd6a-4121-9c11-ab47dca9518e",
   "metadata": {},
   "outputs": [],
   "source": [
    "if imagem is None:\n",
    "    print('Erro ao carregar a imagem.')\n",
    "else:\n",
    "    # Decompõe a imagem em valores RGB\n",
    "    matriz_r, matriz_g, matriz_b = decompor_imagem(imagem)\n",
    "\n",
    "    # Visualiza as matrizes RGB\n",
    "    visualizar_matrizes(matriz_r, matriz_g, matriz_b)"
   ]
  }
 ],
 "metadata": {
  "kernelspec": {
   "display_name": "Python 3 (ipykernel)",
   "language": "python",
   "name": "python3"
  },
  "language_info": {
   "codemirror_mode": {
    "name": "ipython",
    "version": 3
   },
   "file_extension": ".py",
   "mimetype": "text/x-python",
   "name": "python",
   "nbconvert_exporter": "python",
   "pygments_lexer": "ipython3",
   "version": "3.11.7"
  }
 },
 "nbformat": 4,
 "nbformat_minor": 5
}
